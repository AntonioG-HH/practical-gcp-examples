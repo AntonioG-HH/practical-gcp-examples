{
  "cells": [
    {
      "cell_type": "code",
      "id": "QNDjnEg7W4f0HkGwl8CTAyKu",
      "metadata": {
        "tags": [],
        "id": "QNDjnEg7W4f0HkGwl8CTAyKu"
      },
      "source": [
        "!pip install google-cloud-aiplatform python-json-logger"
      ],
      "execution_count": null,
      "outputs": []
    },
    {
      "cell_type": "code",
      "source": [
        "PROJECT_ID = \"rocketech-de-pgcp-sandbox\" # @param {\"type\":\"string\"}\n",
        "MODEL = \"gemini-1.5-pro\" # @param {\"type\":\"string\",\"placeholder\":\"rocketech-de-pgcp-sandbox\"}\n",
        "FEEDBACK = \"Did not work for me; caused irritation.\" # @param {\"type\":\"string\",\"placeholder\":\"\"}\n"
      ],
      "metadata": {
        "id": "IpUA27kaX0lt"
      },
      "id": "IpUA27kaX0lt",
      "execution_count": null,
      "outputs": []
    },
    {
      "cell_type": "code",
      "source": [
        "import os\n",
        "import vertexai\n",
        "import logging\n",
        "\n",
        "from pythonjsonlogger import jsonlogger\n",
        "\n",
        "# Create a logger\n",
        "logger = logging.getLogger(__name__)\n",
        "logger.setLevel(logging.INFO)\n",
        "\n",
        "# Create a handler\n",
        "logHandler = logging.StreamHandler()\n",
        "\n",
        "# Create a formatter\n",
        "formatter = jsonlogger.JsonFormatter()\n",
        "\n",
        "# Set the formatter for the handler\n",
        "logHandler.setFormatter(formatter)\n",
        "\n",
        "# Add the handler to the logger\n",
        "logger.addHandler(logHandler)\n",
        "\n",
        "from vertexai.generative_models import (\n",
        "    GenerationConfig,\n",
        "    GenerativeModel,\n",
        "    HarmBlockThreshold,\n",
        "    HarmCategory,\n",
        "    Image,\n",
        "    Part,\n",
        "    SafetySetting,\n",
        ")\n",
        "\n",
        "\n",
        "LOCATION = os.environ.get(\"GOOGLE_CLOUD_REGION\", \"europe-west2\")\n",
        "\n",
        "vertexai.init(project=PROJECT_ID, location=LOCATION)\n",
        "\n",
        "model = GenerativeModel(\"gemini-1.5-flash\")\n",
        "\n",
        "prompt = \"Classify the following customer feedback as 'good', 'bad', or 'neutral', DO NOT RETURN ANY OTHER WORDS\"\n",
        "# response = model.generate_content(f\"{prompt}: [{FEEDBACK}]\")\n",
        "\n",
        "logger.info(\"This is the categorisation output\", extra={\"region\": 'region', \"feedback_category\": response.text})\n"
      ],
      "metadata": {
        "id": "INsKvPDkVZtV"
      },
      "id": "INsKvPDkVZtV",
      "execution_count": null,
      "outputs": []
    },
    {
      "cell_type": "code",
      "source": [],
      "metadata": {
        "id": "tbOtR8ziXfhg"
      },
      "id": "tbOtR8ziXfhg",
      "execution_count": null,
      "outputs": []
    }
  ],
  "metadata": {
    "kernelspec": {
      "display_name": "Python 3",
      "language": "python",
      "name": "python3"
    },
    "language_info": {
      "codemirror_mode": {
        "name": "ipython",
        "version": 3
      },
      "file_extension": ".py",
      "mimetype": "text/x-python",
      "name": "python",
      "nbconvert_exporter": "python",
      "pygments_lexer": "ipython3",
      "version": "3.10.10"
    },
    "colab": {
      "provenance": [],
      "name": "genai_feedback_categoriser"
    }
  },
  "nbformat": 4,
  "nbformat_minor": 5
}