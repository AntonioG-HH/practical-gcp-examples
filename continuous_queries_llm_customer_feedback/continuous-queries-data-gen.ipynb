{
  "cells": [
    {
      "cell_type": "code",
      "id": "UHlX6dCbP9vYFHYQHyStFQBt",
      "metadata": {
        "tags": [],
        "id": "UHlX6dCbP9vYFHYQHyStFQBt"
      },
      "source": [
        "!pip install keyrings.google-artifactregistry-auth"
      ],
      "execution_count": null,
      "outputs": []
    },
    {
      "cell_type": "code",
      "source": [
        "!pip install google-cloud-bigquery faker pandas"
      ],
      "metadata": {
        "id": "7l8h9gWI4IRQ"
      },
      "id": "7l8h9gWI4IRQ",
      "execution_count": null,
      "outputs": []
    },
    {
      "cell_type": "code",
      "source": [
        "from google.cloud import bigquery\n",
        "\n",
        "# Define the schema for the BigQuery table\n",
        "schema = [\n",
        "    bigquery.SchemaField(\"Email\", \"STRING\", mode=\"REQUIRED\"),\n",
        "    bigquery.SchemaField(\"Timestamp\", \"TIMESTAMP\", mode=\"REQUIRED\"),\n",
        "    bigquery.SchemaField(\"Region\", \"STRING\", mode=\"REQUIRED\"),\n",
        "    bigquery.SchemaField(\"Feedback\", \"STRING\", mode=\"REQUIRED\"),\n",
        "]"
      ],
      "metadata": {
        "id": "BTn47ee64943"
      },
      "id": "BTn47ee64943",
      "execution_count": null,
      "outputs": []
    },
    {
      "cell_type": "code",
      "source": [
        "from faker import Faker\n",
        "import random\n",
        "from google.cloud import bigquery\n",
        "import pandas as pd\n",
        "\n",
        "# Initialize Faker and BigQuery client\n",
        "fake = Faker()\n",
        "client = bigquery.Client()\n",
        "\n",
        "# Define sample positive and negative feedback\n",
        "positive_feedback = [\n",
        "    \"Absolutely love this product! My skin feels amazing.\",\n",
        "    \"Exceeded my expectations; will definitely buy again.\",\n",
        "    \"Fantastic results; my complexion has never been better.\",\n",
        "    \"Highly recommend to anyone looking for quality skincare.\",\n",
        "    \"A must-have in my daily routine; very satisfied.\"\n",
        "]\n",
        "\n",
        "negative_feedback = [\n",
        "    \"Did not work for me; caused irritation.\",\n",
        "    \"Overpriced and underwhelming; not worth it.\",\n",
        "    \"No noticeable difference after weeks of use.\",\n",
        "    \"Disappointed with the results; won't repurchase.\",\n",
        "    \"Left my skin feeling dry and uncomfortable.\"\n",
        "]\n",
        "\n",
        "# Define sample regions (10 counties in the UK)\n",
        "regions = [\n",
        "    \"Greater London\",\n",
        "    \"West Midlands\",\n",
        "    \"Greater Manchester\",\n",
        "    \"West Yorkshire\",\n",
        "    \"Kent\",\n",
        "    \"Essex\",\n",
        "    \"Merseyside\",\n",
        "    \"South Yorkshire\",\n",
        "    \"Hampshire\",\n",
        "    \"Lancashire\"\n",
        "]\n",
        "\n",
        "# Function to generate a single feedback record\n",
        "def generate_feedback():\n",
        "    email = fake.email()\n",
        "    timestamp = fake.date_time_this_year()\n",
        "    region = random.choice(regions)\n",
        "    feedback = random.choice(positive_feedback + negative_feedback)\n",
        "    return {\n",
        "        \"Email\": email,\n",
        "        \"Timestamp\": timestamp,\n",
        "        \"Region\": region,\n",
        "        \"Feedback\": feedback\n",
        "    }\n",
        "\n",
        "# Generate 1,000 feedback records\n",
        "feedback_data = [generate_feedback() for _ in range(1000)]\n",
        "\n",
        "# Convert to a DataFrame\n",
        "df = pd.DataFrame(feedback_data)\n",
        "\n",
        "# Define your BigQuery dataset and table\n",
        "dataset_id = 'continuous_queries_demo'\n",
        "table_id = 'customer_feedback'\n",
        "table_ref = client.dataset(dataset_id).table(table_id)\n",
        "\n",
        "# Create the table if it doesn't exist\n",
        "try:\n",
        "    client.get_table(table_ref)\n",
        "    print(f\"Table {table_id} already exists.\")\n",
        "except Exception:\n",
        "    table = bigquery.Table(table_ref, schema=schema)\n",
        "    table = client.create_table(table)\n",
        "    print(f\"Table {table_id} created.\")\n",
        "\n",
        "# Load data into BigQuery\n",
        "job = client.load_table_from_dataframe(df, table_ref)\n",
        "job.result()  # Wait for the job to complete\n",
        "print(f\"Loaded {job.output_rows} rows into {dataset_id}:{table_id}.\")"
      ],
      "metadata": {
        "id": "w6X9Fp1I4VIG"
      },
      "id": "w6X9Fp1I4VIG",
      "execution_count": null,
      "outputs": []
    }
  ],
  "metadata": {
    "kernelspec": {
      "display_name": "Python 3",
      "language": "python",
      "name": "python3"
    },
    "language_info": {
      "codemirror_mode": {
        "name": "ipython",
        "version": 3
      },
      "file_extension": ".py",
      "mimetype": "text/x-python",
      "name": "python",
      "nbconvert_exporter": "python",
      "pygments_lexer": "ipython3",
      "version": "3.10.10"
    },
    "colab": {
      "provenance": [],
      "name": "continuous-queries-data-gen"
    }
  },
  "nbformat": 4,
  "nbformat_minor": 5
}