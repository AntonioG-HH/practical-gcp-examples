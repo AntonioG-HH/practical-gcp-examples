{
  "cells": [
    {
      "cell_type": "code",
      "id": "V6z7vBimDm1ktinAdubOYm1B",
      "metadata": {
        "tags": [],
        "id": "V6z7vBimDm1ktinAdubOYm1B"
      },
      "source": [
        "!pip install google-cloud-pubsub==2.26.1"
      ],
      "execution_count": null,
      "outputs": []
    },
    {
      "cell_type": "code",
      "source": [
        "PROJECT_ID = \"replace_with_project_id\" # @param {\"type\":\"string\"}\n",
        "TOPIC_NAME = \"replace_with_pubsub_topic_name\" # @param {\"type\":\"string\"}\n"
      ],
      "metadata": {
        "id": "IF0l6DqnAXD5"
      },
      "id": "IF0l6DqnAXD5",
      "execution_count": null,
      "outputs": []
    },
    {
      "cell_type": "code",
      "source": [
        "import json\n",
        "import logging\n",
        "import os\n",
        "import time\n",
        "import datetime\n",
        "\n",
        "from google.cloud import pubsub_v1\n",
        "from concurrent import futures\n",
        "\n",
        "\n",
        "# Function to generate a single customer record\n",
        "def generate_customer_record():\n",
        "    return {\n",
        "        \"customer_id\": 1\n",
        "    }\n",
        "\n",
        "# Function to generate multiple customer records\n",
        "def generate_customer_records(num_records):\n",
        "    for r in range(num_records):\n",
        "      yield generate_customer_record()\n",
        "\n",
        "\n",
        "logging.basicConfig()\n",
        "logging.getLogger().setLevel(logging.INFO)\n",
        "\n",
        "topic_name = 'projects/{project_id}/topics/{topic}'.format(\n",
        "    project_id=PROJECT_ID,\n",
        "    topic=TOPIC_NAME,\n",
        ")\n",
        "\n",
        "# !!DO NOT USE THESE SETTINGS FOR PRODUCTION, THESE ARE SPECIFICALLY DESIGNED TO RESTRICT MESSAGE FLOW\n",
        "batch_settings = pubsub_v1.types.BatchSettings(\n",
        "    max_messages=10, # Send immediately when 10 messages are published\n",
        "    max_bytes=1024,  # Send immediately when 1 KB is reached\n",
        "    max_latency=0.1  # Send every 0.1 seconds\n",
        ")\n",
        "\n",
        "# !!DO NOT USE THESE SETTINGS FOR PRODUCTION, THESE ARE SPECIFICALLY DESIGNED TO RESTRICT MESSAGE FLOW\n",
        "publisher_options = pubsub_v1.types.PublisherOptions(\n",
        "    flow_control = pubsub_v1.types.PublishFlowControl(\n",
        "      message_limit=10, # Only 10 messages allowed in memory buffer\n",
        "      byte_limit=1024,  # Only 1 KB allowed in memory buffer\n",
        "      limit_exceeded_behavior=pubsub_v1.types.LimitExceededBehavior.BLOCK #!!!\n",
        "  )\n",
        ")\n",
        "publisher = pubsub_v1.PublisherClient(\n",
        "    batch_settings=batch_settings,\n",
        "    publisher_options=publisher_options\n",
        ")\n",
        "\n",
        "published_futures = []\n",
        "\n",
        "total_should_be_sent = 0\n",
        "start_time = time.time()\n",
        "\n",
        "for r in generate_customer_records(10000): # sending 10k messages\n",
        "    future = publisher.publish(topic_name, json.dumps(r).encode('utf-8'), origin='webapp_a', user=\"moo\")\n",
        "    published_futures.append(future)\n",
        "    total_should_be_sent += 1\n",
        "\n",
        "futures.wait(published_futures, return_when=futures.ALL_COMPLETED)\n",
        "\n",
        "end_time = time.time()\n",
        "elapsed_time = end_time - start_time\n",
        "\n",
        "# Wait for all publishing futures to complete and handle any exceptions\n",
        "for future in published_futures:\n",
        "    try:\n",
        "        result = future.result()  # This will raise an exception if publishing failed\n",
        "    except Exception as e:\n",
        "        raise e\n",
        "\n",
        "logging.info(f\"Published messages with batch settings to {topic_name}.\")\n",
        "logging.info(f\"Total should be sent: {total_should_be_sent}.\")\n",
        "\n",
        "logging.info(f\"Code ran in {elapsed_time:.4f} seconds.\")"
      ],
      "metadata": {
        "id": "SasNpzJs_9zz"
      },
      "id": "SasNpzJs_9zz",
      "execution_count": null,
      "outputs": []
    }
  ],
  "metadata": {
    "kernelspec": {
      "display_name": "Python 3",
      "language": "python",
      "name": "python3"
    },
    "language_info": {
      "codemirror_mode": {
        "name": "ipython",
        "version": 3
      },
      "file_extension": ".py",
      "mimetype": "text/x-python",
      "name": "python",
      "nbconvert_exporter": "python",
      "pygments_lexer": "ipython3",
      "version": "3.10.10"
    },
    "colab": {
      "provenance": [],
      "name": "pubsub_block_producer"
    }
  },
  "nbformat": 4,
  "nbformat_minor": 5
}